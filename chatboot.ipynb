{
 "cells": [
  {
   "cell_type": "markdown",
   "id": "ec21c2cf",
   "metadata": {},
   "source": [
    "## **Unidad 1: Introducción al Procesamiento del Lenguaje Natural**"
   ]
  },
  {
   "cell_type": "markdown",
   "id": "d189a033",
   "metadata": {},
   "source": [
    "## **Creación de un Chatbot Simple:**"
   ]
  },
  {
   "cell_type": "markdown",
   "id": "5971957c",
   "metadata": {},
   "source": [
    " **a. Configuración e Importación de Librerías:**"
   ]
  },
  {
   "cell_type": "code",
   "execution_count": 24,
   "id": "7715d253-907f-4fef-959f-1bf64e49b3ba",
   "metadata": {},
   "outputs": [
    {
     "name": "stderr",
     "output_type": "stream",
     "text": [
      "[nltk_data] Downloading package punkt to /home/josef/nltk_data...\n",
      "[nltk_data]   Package punkt is already up-to-date!\n",
      "[nltk_data] Downloading package stopwords to /home/josef/nltk_data...\n",
      "[nltk_data]   Package stopwords is already up-to-date!\n"
     ]
    },
    {
     "data": {
      "text/plain": [
       "True"
      ]
     },
     "execution_count": 24,
     "metadata": {},
     "output_type": "execute_result"
    }
   ],
   "source": [
    "import json\n",
    "import nltk\n",
    "nltk.download('punkt')\n",
    "nltk.download('stopwords')"
   ]
  },
  {
   "cell_type": "code",
   "execution_count": 2,
   "id": "8e123e4e-3465-45b5-94e9-5080779b6b25",
   "metadata": {},
   "outputs": [],
   "source": [
    "from nltk.tokenize import word_tokenize"
   ]
  },
  {
   "cell_type": "code",
   "execution_count": 3,
   "id": "429d8fa6-0e74-47b4-a033-ad0e01a6f8a7",
   "metadata": {},
   "outputs": [],
   "source": [
    "from nltk.corpus import stopwords"
   ]
  },
  {
   "cell_type": "code",
   "execution_count": 4,
   "id": "70dcdbc0-3246-48ca-b8fa-9b9cbf8beb9a",
   "metadata": {},
   "outputs": [],
   "source": [
    "from sklearn.feature_extraction.text import TfidfVectorizer"
   ]
  },
  {
   "cell_type": "code",
   "execution_count": 5,
   "id": "66a6cb2c-a6d8-4172-a3bf-df242b30fb74",
   "metadata": {},
   "outputs": [],
   "source": [
    "from sklearn.metrics.pairwise import cosine_similarity"
   ]
  },
  {
   "cell_type": "code",
   "execution_count": 6,
   "id": "8b575e41-b5f8-4294-a9ba-56566f356a6b",
   "metadata": {},
   "outputs": [],
   "source": [
    "text = 'When in the chronicle of wasted time'"
   ]
  },
  {
   "cell_type": "markdown",
   "id": "949a6c39",
   "metadata": {},
   "source": [
    "**b. Preprocesamiento de Datos:**"
   ]
  },
  {
   "cell_type": "code",
   "execution_count": 38,
   "id": "014a9c1b-09c8-48ad-8dc0-76faad42e84e",
   "metadata": {},
   "outputs": [],
   "source": [
    "#def preprocess(text): \n",
    "#    tokens = word_tokenize(text) \n",
    "#    tokens = [word for word in tokens if word.lower() not in stopwords.words('english')] \n",
    "#    return \" \".join(tokens)\n",
    "\n",
    "def preprocess(text): \n",
    "    tokens = word_tokenize(text) \n",
    "    tokens = [word for word in tokens if word.lower() not in stopwords.words('spanish')] \n",
    "    return \" \".join(tokens).lower()\n"
   ]
  },
  {
   "cell_type": "code",
   "execution_count": 39,
   "id": "d485e555-f05a-4fe6-8c54-141fe123ec36",
   "metadata": {},
   "outputs": [
    {
     "data": {
      "text/plain": [
       "'chronicle wasted time'"
      ]
     },
     "execution_count": 39,
     "metadata": {},
     "output_type": "execute_result"
    }
   ],
   "source": [
    "preprocess(text)"
   ]
  },
  {
   "cell_type": "markdown",
   "id": "18af9c4f",
   "metadata": {},
   "source": [
    "**c. Creación de la Base de Datos de Respuestas:**"
   ]
  },
  {
   "cell_type": "code",
   "execution_count": 69,
   "id": "f1534c4e-4c26-4d8e-bf94-a3a4ced1191c",
   "metadata": {},
   "outputs": [],
   "source": [
    "database = {\n",
    "    \"hola\": \"¡Hola! ¿En qué puedo ayudarte?\",\n",
    "    \"¿qué haces?\": \"Soy un chatbot creado para asistirte.\",\n",
    "    \"adiós\": \"¡Hasta luego! Estoy aquí si necesitas más ayuda.\",\n",
    "    \"¿cuál es tu nombre?\": \"Me llamo ChatBot, pero puedes llamarme como quieras.\",\n",
    "    \"¿qué temas puedes cubrir?\": \"Puedo ayudarte con información general, responder preguntas, o simplemente charlar contigo.\",\n",
    "    \"gracias\": \"De nada. ¿Hay algo más en lo que pueda ayudarte?\",\n",
    "    \"¿cómo estás?\": \"Como soy un programa de computadora, no tengo emociones, pero estoy aquí para ayudarte.\",\n",
    "    \"cuéntame un chiste\": \"¿Por qué los programadores prefieren el café frío? Porque les gusta el Java helado.\",\n",
    "    \"¿dónde vives?\": \"Vivo en el mundo digital, aquí para ayudarte 24/7.\",\n",
    "    \"¿tienes algún hobby?\": \"Mi hobby es conversar contigo y ayudarte en lo que necesites.\",\n",
    "    \"explícame algo\": \"¡Claro! ¿Hay algún tema en particular que te gustaría que te explique?\"\n",
    "}\n",
    "\n",
    "# Preprocesamos las claves (preguntas) para una mejor coincidencia\n",
    "processed_database = {preprocess(key): value for key, value in database.items()}"
   ]
  },
  {
   "cell_type": "markdown",
   "id": "1ac0061c",
   "metadata": {},
   "source": [
    "**d. Creación de la Función del Chatbot:**"
   ]
  },
  {
   "cell_type": "code",
   "execution_count": 63,
   "id": "5c8ab174",
   "metadata": {},
   "outputs": [],
   "source": [
    "def chatbot_response(user_input):\n",
    "    # Procesamos la entrada del usuario\n",
    "    processed_input = preprocess(user_input)\n",
    "\n",
    "    # Usamos TF-IDF para convertir las sentencias en vectores y calcular la similitud\n",
    "    vectorizer = TfidfVectorizer().fit_transform([processed_input] + list(processed_database.keys()))\n",
    "    vectors = vectorizer.toarray()\n",
    "\n",
    "    # Calculamos la similitud del coseno entre la entrada del usuario y nuestra base de datos\n",
    "    cosine_vals = cosine_similarity(vectors[0:1], vectors[1:]).flatten()\n",
    "    match_index = cosine_vals.argmax()\n",
    "\n",
    "    # Si no hay similitud en ninguna entrada, devolvemos una respuesta predeterminada\n",
    "    if cosine_vals[match_index] == 0:\n",
    "        return \"Lo siento, no entiendo esa pregunta.\"\n",
    "    else:\n",
    "        return list(processed_database.values())[match_index]"
   ]
  },
  {
   "cell_type": "markdown",
   "id": "eca53b5b",
   "metadata": {},
   "source": [
    "**e. Interacción con el Chatbot:**"
   ]
  },
  {
   "cell_type": "code",
   "execution_count": 68,
   "id": "f0acaa39",
   "metadata": {},
   "outputs": [
    {
     "name": "stdout",
     "output_type": "stream",
     "text": [
      "Chatbot: ¡Hola! Escribe 'salir' si deseas finalizar el chat.\n",
      "Tú: ¿qué temas puedes cubrir?\n",
      "Chatbot: puedo ayudarte con información general, responder preguntas, o simplemente charlar contigo.\n",
      "Tú: hola\n",
      "Chatbot: ¡hola! ¿en qué puedo ayudarte?\n",
      "Tú: ¿cómo estás?\n",
      "Chatbot: como soy un programa de computadora, no tengo emociones, pero estoy aquí para ayudarte.\n",
      "Tú: ¿cuál es tu nombre?\n",
      "Chatbot: me llamo chatbot 3000, pero puedes llamarme como quieras.\n",
      "Tú: Salir\n",
      "Chatbot: ¡Adiós! Fue un placer ayudarte.\n"
     ]
    }
   ],
   "source": [
    "###\n",
    "print(\"Chatbot: ¡Hola! Escribe 'salir' si deseas finalizar el chat.\")\n",
    "while True:\n",
    "    user_input = input(\"Tú: \")\n",
    "    if user_input.lower() == 'salir':\n",
    "        print(\"Chatbot: ¡Adiós! Fue un placer ayudarte.\")\n",
    "        break\n",
    "    response = chatbot_response(user_input)\n",
    "    print(\"Chatbot:\", response.lower())  # Convertimos la respuesta a minúsculas para la comparación"
   ]
  },
  {
   "cell_type": "code",
   "execution_count": null,
   "id": "8370bb45",
   "metadata": {},
   "outputs": [],
   "source": []
  }
 ],
 "metadata": {
  "kernelspec": {
   "display_name": "Python 3 (ipykernel)",
   "language": "python",
   "name": "python3"
  },
  "language_info": {
   "codemirror_mode": {
    "name": "ipython",
    "version": 3
   },
   "file_extension": ".py",
   "mimetype": "text/x-python",
   "name": "python",
   "nbconvert_exporter": "python",
   "pygments_lexer": "ipython3",
   "version": "3.9.18"
  }
 },
 "nbformat": 4,
 "nbformat_minor": 5
}
